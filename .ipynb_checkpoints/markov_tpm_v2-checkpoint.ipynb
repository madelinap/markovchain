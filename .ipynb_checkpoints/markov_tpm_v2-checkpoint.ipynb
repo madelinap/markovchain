{
 "cells": [
  {
   "cell_type": "code",
   "execution_count": null,
   "metadata": {},
   "outputs": [],
   "source": [
    "import numpy as np\n",
    "import pandas as pd"
   ]
  },
  {
   "cell_type": "code",
   "execution_count": null,
   "metadata": {},
   "outputs": [],
   "source": [
    "threshold = 3\n",
    "cutoff = 8"
   ]
  },
  {
   "cell_type": "markdown",
   "metadata": {},
   "source": [
    "## Build the Transition Matrix of Probabilities is given\n",
    "### - on rows we have current state\n",
    "### - on columns we have new state"
   ]
  },
  {
   "cell_type": "code",
   "execution_count": null,
   "metadata": {},
   "outputs": [],
   "source": [
    "edges = pd.read_csv(f'edges.20211117_v3.csv',\n",
    "                    low_memory=False, \n",
    "                    encoding='utf-8',\n",
    "                    float_precision='round_trip')"
   ]
  },
  {
   "cell_type": "code",
   "execution_count": null,
   "metadata": {},
   "outputs": [],
   "source": [
    "edges.shape"
   ]
  },
  {
   "cell_type": "code",
   "execution_count": null,
   "metadata": {
    "scrolled": true
   },
   "outputs": [],
   "source": [
    "edges.head()"
   ]
  },
  {
   "cell_type": "code",
   "execution_count": null,
   "metadata": {},
   "outputs": [],
   "source": [
    "edges = edges[edges['position_from_upd'] != edges['position_to_upd']]"
   ]
  },
  {
   "cell_type": "markdown",
   "metadata": {},
   "source": [
    "## Replace space with \"_\""
   ]
  },
  {
   "cell_type": "code",
   "execution_count": null,
   "metadata": {},
   "outputs": [],
   "source": [
    "edges['position_from_upd'] = edges['position_from_upd'].str.replace(\" \", \"_\")\n",
    "edges['position_to_upd'] = edges['position_to_upd'].str.replace(\" \", \"_\")"
   ]
  },
  {
   "cell_type": "code",
   "execution_count": null,
   "metadata": {},
   "outputs": [],
   "source": [
    "len(edges['position_to'].unique()), len(edges['position_to_upd'].unique())"
   ]
  },
  {
   "cell_type": "code",
   "execution_count": null,
   "metadata": {},
   "outputs": [],
   "source": [
    "edges_agg = edges.groupby(['position_from_upd','position_to_upd'])['HRTB Id'].count()"
   ]
  },
  {
   "cell_type": "code",
   "execution_count": null,
   "metadata": {},
   "outputs": [],
   "source": [
    "edges_agg.shape"
   ]
  },
  {
   "cell_type": "code",
   "execution_count": null,
   "metadata": {},
   "outputs": [],
   "source": [
    "edges_agg = edges_agg[edges_agg >= threshold]"
   ]
  },
  {
   "cell_type": "code",
   "execution_count": null,
   "metadata": {},
   "outputs": [],
   "source": [
    "edges_agg.sort_values(ascending = False).head(10)"
   ]
  },
  {
   "cell_type": "markdown",
   "metadata": {},
   "source": [
    "## Average number of positions per employee"
   ]
  },
  {
   "cell_type": "code",
   "execution_count": null,
   "metadata": {},
   "outputs": [],
   "source": [
    "edges.groupby('HRTB Id')['position_from_upd'].nunique().mean()"
   ]
  },
  {
   "cell_type": "code",
   "execution_count": null,
   "metadata": {
    "scrolled": true
   },
   "outputs": [],
   "source": [
    "edges.groupby('HRTB Id')['position_from_upd'].nunique().hist()"
   ]
  },
  {
   "cell_type": "markdown",
   "metadata": {},
   "source": [
    "## Create states"
   ]
  },
  {
   "cell_type": "code",
   "execution_count": null,
   "metadata": {},
   "outputs": [],
   "source": [
    "allstates = set(edges_agg.index.get_level_values(0)).union(set(edges_agg.index.get_level_values(1)))\n",
    "n = len(allstates)\n",
    "print(\"n=\",n)\n",
    "states = list(allstates)"
   ]
  },
  {
   "cell_type": "markdown",
   "metadata": {},
   "source": [
    "## Create transition probability matrix"
   ]
  },
  {
   "cell_type": "code",
   "execution_count": null,
   "metadata": {},
   "outputs": [],
   "source": [
    "edges_agg.loc[('character_modeler', 'graphic_design_team_lead')]"
   ]
  },
  {
   "cell_type": "code",
   "execution_count": null,
   "metadata": {},
   "outputs": [],
   "source": [
    "# init with 0\n",
    "tpm = [[0 for i in range(n)] for j in range(n)]\n",
    "# populate with nij = number of transition from i to j\n",
    "for i,source in enumerate(allstates):\n",
    "    if i % 100 == 0:\n",
    "        print(i, source)\n",
    "    for j,dest in enumerate(allstates):\n",
    "        if i != j:\n",
    "            try:\n",
    "                hrcnt = edges_agg.loc[(source, dest)]\n",
    "                tpm[i][j] = hrcnt\n",
    "            except:\n",
    "                pass;\n",
    "        else:\n",
    "            tpm[i][j] = 0"
   ]
  },
  {
   "cell_type": "code",
   "execution_count": null,
   "metadata": {},
   "outputs": [],
   "source": [
    "p = [[0 for i in range(n)] for j in range(n)]\n",
    "for i in range(n):\n",
    "    i_sum = 0\n",
    "    for j in range(n):\n",
    "        i_sum = i_sum + tpm[i][j]\n",
    "    if i_sum > 0:\n",
    "        for j in range(n):\n",
    "            p[i][j] = tpm[i][j]/i_sum\n",
    "    else:\n",
    "        p[i][i] = 1"
   ]
  },
  {
   "cell_type": "code",
   "execution_count": null,
   "metadata": {},
   "outputs": [],
   "source": [
    "for i in range(n):\n",
    "    if round(sum(p[i])) != 1:\n",
    "        print(i, sum(p[i]), \"Somewhere, something went wrong. Transition matrix, perhaps?\")"
   ]
  },
  {
   "cell_type": "code",
   "execution_count": null,
   "metadata": {},
   "outputs": [],
   "source": [
    "len(p), len(p[0])"
   ]
  },
  {
   "cell_type": "markdown",
   "metadata": {},
   "source": [
    "## Remove rows and cols with 0"
   ]
  },
  {
   "cell_type": "code",
   "execution_count": null,
   "metadata": {},
   "outputs": [],
   "source": [
    "pa = np.array(p)\n",
    "dim = len(pa[0])\n",
    "pa.shape, dim"
   ]
  },
  {
   "cell_type": "code",
   "execution_count": null,
   "metadata": {},
   "outputs": [],
   "source": [
    "len(pa[1,:]), len(pa[:,1])"
   ]
  },
  {
   "cell_type": "code",
   "execution_count": null,
   "metadata": {},
   "outputs": [],
   "source": [
    "for i in range(len(p)):\n",
    "    if sum(pa[i,:]) == 0:\n",
    "        if sum(pa[:,i]) == 0:\n",
    "            print(i)"
   ]
  },
  {
   "cell_type": "markdown",
   "metadata": {},
   "source": [
    "## Build the graph with:\n",
    "### 1 - vertex = states\n",
    "### 2- edges weight = -log(p(i,j)"
   ]
  },
  {
   "cell_type": "code",
   "execution_count": null,
   "metadata": {},
   "outputs": [],
   "source": [
    "import networkx as nx  # For the magic\n",
    "import pydot\n",
    "import matplotlib.pyplot as plt  # For plotting"
   ]
  },
  {
   "cell_type": "code",
   "execution_count": null,
   "metadata": {},
   "outputs": [],
   "source": [
    "G = nx.DiGraph()\n",
    "labels={}\n",
    "edge_labels={}\n",
    "\n",
    "for i, origin_state in enumerate(states):\n",
    "    for j, destination_state in enumerate(states):\n",
    "        if i!=j:\n",
    "            try:\n",
    "                rate = 1/np.log(1.01 + p[i][j])\n",
    "            except:\n",
    "                rate = 0\n",
    "            if rate <= 0:\n",
    "                print(origin_state, destination_state, p[i][j])                \n",
    "            if p[i][j] > 0:\n",
    "                if rate < 0:\n",
    "                    print(p[i][j], rate)           \n",
    "                G.add_edge(origin_state,\n",
    "                           destination_state,\n",
    "                           weight = int(rate),\n",
    "                           prob = p[i][j],\n",
    "                           hrcnt = tpm[i][j]\n",
    "                          )\n",
    "    #             edge_labels[(origin_state, destination_state)] = label=\"{:.02f}\".format(rate)"
   ]
  },
  {
   "cell_type": "code",
   "execution_count": null,
   "metadata": {},
   "outputs": [],
   "source": [
    "len(G.nodes())"
   ]
  },
  {
   "cell_type": "code",
   "execution_count": null,
   "metadata": {},
   "outputs": [],
   "source": [
    "len(G.edges())"
   ]
  },
  {
   "cell_type": "code",
   "execution_count": null,
   "metadata": {},
   "outputs": [],
   "source": [
    "G.get_edge_data(\"3d_animator\", \"gameplay_animator\")"
   ]
  },
  {
   "cell_type": "code",
   "execution_count": null,
   "metadata": {},
   "outputs": [],
   "source": [
    "# test\n",
    "rate = 1000/np.log(1.01 + G.get_edge_data(\"3d_animator\", \"gameplay_animator\")['prob'])\n",
    "print(rate)"
   ]
  },
  {
   "cell_type": "code",
   "execution_count": null,
   "metadata": {},
   "outputs": [],
   "source": [
    "prob = [(e[2]['prob']) for e in G.edges(data=True)]"
   ]
  },
  {
   "cell_type": "markdown",
   "metadata": {},
   "source": [
    "## Draw subgraph"
   ]
  },
  {
   "cell_type": "code",
   "execution_count": null,
   "metadata": {},
   "outputs": [],
   "source": [
    "def show_graph(g, source, target):\n",
    "    dot_graph = nx.nx_pydot.to_pydot(g)\n",
    "    shortest_path = nx.shortest_path(g, source=source, target=target, weight='weight', method='dijkstra')\n",
    "    shortest_path2 = nx.bellman_ford_predecessor_and_distance(g, source=source, target=target, weight='weight')\n",
    "    print(shortest_path)\n",
    "    print(shortest_path2)\n",
    "    \n",
    "    for node in dot_graph.get_nodes():\n",
    "        lbl_node = node.get_name().replace('\\\"','')\n",
    "        node.set_style('\"rounded,filled\", fixedsize=\"true\", width=\"2\", color=\"#ABD5E3\",fontcolor=\"black\",fontsize=\"10\"')\n",
    "\n",
    "        if lbl_node in shortest_path:\n",
    "            node.set_style('\"rounded,filled\",fixedsize=\"true\", width=\"2\", color=\"#F63366\",fontcolor=\"white\",fontsize=\"10\"')\n",
    "\n",
    "    total_weight = sum([x[2]['hrcnt'] for x in g.edges(data=True)])\n",
    "\n",
    "    for edge in dot_graph.get_edges():\n",
    "        # print(edge)\n",
    "        w = edge.get_attributes()['weight']\n",
    "        p = edge.get_attributes()['prob']\n",
    "        hrc = edge.get_attributes()['hrcnt']\n",
    "        \n",
    "        source = edge.get_source().replace('\\\"','')\n",
    "        destination = edge.get_destination().replace('\\\"','')\n",
    "        \n",
    "        edge.set_penwidth(0.2 + 50 * int(hrc)/total_weight)\n",
    "        if source in shortest_path and \\\n",
    "            destination in shortest_path and \\\n",
    "            abs(shortest_path.index(source)-shortest_path.index(destination)) == 1:\n",
    "            edge.set_color('#F63366')\n",
    "        else:\n",
    "            edge.set_color('grey')\n",
    "\n",
    "        edge.set_tooltip(edge.get_source() + ' -> '\n",
    "                         + edge.get_destination() + '\\n'\n",
    "                         + 'lenght to min: ' + str(w) + ', prob: ' + str(p) + ', hrcnt=' + str(hrc))\n",
    "\n",
    "    dot_graph.set_graph_defaults(\n",
    "#         size=\"\\\"25,25\\\"\",\n",
    "        # height=10,\n",
    "        ratio='auto',\n",
    "        # fontname='Courier',\n",
    "        fontsize='12',\n",
    "        compound=True,\n",
    "        splines='curve',\n",
    "        layout='dot',\n",
    "        bgcolor='#0E1117',\n",
    "    )\n",
    "\n",
    "    return dot_graph, shortest_path"
   ]
  },
  {
   "cell_type": "code",
   "execution_count": null,
   "metadata": {},
   "outputs": [],
   "source": [
    "from IPython.display import Image, display\n",
    "\n",
    "def view_pydot(pdot):\n",
    "    plt = Image(pdot.create_png())\n",
    "    display(plt)"
   ]
  },
  {
   "cell_type": "code",
   "execution_count": null,
   "metadata": {},
   "outputs": [],
   "source": [
    "def viz_paths(G, state_from, state_to, filename):\n",
    "    paths = list(nx.all_simple_paths(G, state_from, state_to, cutoff=cutoff))\n",
    "    sg = nx.DiGraph()\n",
    "    for r in paths:\n",
    "#         route_edges = [(r[n], r[n + 1], edges_agg.loc[(r[n], r[n + 1])]) for n in range(len(r) - 1)]\n",
    "        route_edges = [(r[n], r[n + 1], G.get_edge_data(r[n], r[n + 1])['weight']) for n in range(len(r) - 1)]\n",
    "        sg.add_weighted_edges_from(route_edges)\n",
    "        \n",
    "    for node1, node2, data in sg.edges.data():\n",
    "        data['prob'] = G.get_edge_data(node1, node2)['prob']\n",
    "        data['hrcnt'] = G.get_edge_data(node1, node2)['hrcnt']\n",
    "    \n",
    "    graph, shortest = show_graph(sg, state_from, state_to)\n",
    "    view_pydot(graph)\n",
    "    graph.write_svg(filename + '.svg')\n",
    "    print('Optimal path', shortest)"
   ]
  },
  {
   "cell_type": "markdown",
   "metadata": {},
   "source": [
    "## Calculate the shortest (ie. most probable path) between two states"
   ]
  },
  {
   "cell_type": "code",
   "execution_count": null,
   "metadata": {},
   "outputs": [],
   "source": [
    "state_from = '3d_animator'\n",
    "state_to = 'technical_director_-_animation'\n",
    "viz_paths(G, state_from, state_to, '1')\n",
    "edges_agg.loc[('3d_animator','assistant_technical_director_-_animation')]"
   ]
  },
  {
   "cell_type": "code",
   "execution_count": null,
   "metadata": {},
   "outputs": [],
   "source": [
    "state_from = '3d_animator'\n",
    "state_to = 'artistic_director_-_animation'\n",
    "viz_paths(G, state_from, state_to, '2')\n",
    "edges_agg.loc[(state_from, state_to)]"
   ]
  },
  {
   "cell_type": "code",
   "execution_count": null,
   "metadata": {
    "scrolled": true
   },
   "outputs": [],
   "source": [
    "state_from = 'character_modeler'\n",
    "state_to = 'technical_director_-_graphic'\n",
    "viz_paths(G, state_from, state_to, '3')"
   ]
  },
  {
   "cell_type": "code",
   "execution_count": null,
   "metadata": {},
   "outputs": [],
   "source": [
    "state_from = 'game_designer'\n",
    "state_to = 'associate_producer'\n",
    "viz_paths(G, state_from, state_to, '4')"
   ]
  },
  {
   "cell_type": "code",
   "execution_count": null,
   "metadata": {},
   "outputs": [],
   "source": [
    "state_from = 'tester'\n",
    "state_to = 'project_manager'\n",
    "viz_paths(G, state_from, state_to, '5')"
   ]
  },
  {
   "cell_type": "code",
   "execution_count": null,
   "metadata": {},
   "outputs": [],
   "source": [
    "# plt.figure(figsize=(14,7))\n",
    "# pos = nx.spring_layout(sg)\n",
    "# nx.draw(sg, pos, with_labels=True, connectionstyle='arc3, rad = 0.1')\n",
    "# edge_labels=dict([((u,v,),d['weight'])\n",
    "#              for u,v,d in s.edges(data=True)])\n",
    "# nx.draw_networkx_edge_labels(s, pos, edge_labels=edge_labels, label_pos=0.3, font_size=7)\n",
    "# plt.show()"
   ]
  },
  {
   "cell_type": "code",
   "execution_count": null,
   "metadata": {},
   "outputs": [],
   "source": []
  },
  {
   "cell_type": "code",
   "execution_count": null,
   "metadata": {},
   "outputs": [],
   "source": []
  },
  {
   "cell_type": "code",
   "execution_count": null,
   "metadata": {},
   "outputs": [],
   "source": []
  }
 ],
 "metadata": {
  "kernelspec": {
   "display_name": "Python 3",
   "language": "python",
   "name": "python3"
  },
  "language_info": {
   "codemirror_mode": {
    "name": "ipython",
    "version": 3
   },
   "file_extension": ".py",
   "mimetype": "text/x-python",
   "name": "python",
   "nbconvert_exporter": "python",
   "pygments_lexer": "ipython3",
   "version": "3.8.6"
  }
 },
 "nbformat": 4,
 "nbformat_minor": 4
}
